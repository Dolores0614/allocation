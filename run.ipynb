{
 "cells": [
  {
   "cell_type": "code",
   "execution_count": null,
   "id": "630e9137-ef2b-4546-900a-298ad12e3d20",
   "metadata": {},
   "outputs": [],
   "source": [
    "# Create button\n",
    "button = widgets.Button(description=\"Run Optimization\")\n",
    "\n",
    "# Define button callback function\n",
    "def on_button_clicked(b):\n",
    "    main(ticker_input.value, investment_input.value, risk_preference_input.value)\n",
    "\n",
    "# Attach callback function to button\n",
    "button.on_click(on_button_clicked)\n",
    "\n",
    "# Display widgets and button\n",
    "display(ticker_input, investment_input, risk_preference_input, button)"
   ]
  }
 ],
 "metadata": {
  "kernelspec": {
   "display_name": "Python 3 (ipykernel)",
   "language": "python",
   "name": "python3"
  },
  "language_info": {
   "codemirror_mode": {
    "name": "ipython",
    "version": 3
   },
   "file_extension": ".py",
   "mimetype": "text/x-python",
   "name": "python",
   "nbconvert_exporter": "python",
   "pygments_lexer": "ipython3",
   "version": "3.12.4"
  }
 },
 "nbformat": 4,
 "nbformat_minor": 5
}
