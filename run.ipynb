{
 "cells": [
  {
   "cell_type": "code",
   "execution_count": null,
   "id": "88906128-9d31-4f16-b843-45af7531980d",
   "metadata": {},
   "outputs": [],
   "source": [
    "import function\n",
    "if __name__ == \"__main__\":\n",
    "    # Input from user\n",
    "    tickers = input(\"Enter stock tickers (comma separated): \").split(',')\n",
    "    tickers = [ticker.strip() for ticker in tickers]  # Remove any extra whitespace\n",
    "    investment_amount = float(input(\"Enter investment amount: \"))\n",
    "    \n",
    "    # Input risk preference\n",
    "    print(\"Select risk preference:\")\n",
    "    print(\"1. Risk Averse\")\n",
    "    print(\"2. Risk Neutral\")\n",
    "    print(\"3. Risk Seeking\")\n",
    "    risk_preference_input = int(input(\"Enter the number corresponding to your risk preference (1/2/3): \"))\n",
    "    \n",
    "    risk_preference = 'neutral'\n",
    "    if risk_preference_input == 1:\n",
    "        risk_preference = 'averse'\n",
    "    elif risk_preference_input == 3:\n",
    "        risk_preference = 'like'\n",
    "\n",
    "    try:\n",
    "        weights, allocation, leftover, performance = optimize_portfolio(tickers, investment_amount, risk_preference)\n",
    "        \n",
    "        print(\"\\nOptimal Weights:\")\n",
    "        for ticker, weight in weights.items():\n",
    "            print(f\"The cleaned weight for {ticker} is: {weight:.4f}\")\n",
    "        \n",
    "        print(\"\\nInvestment Allocation:\")\n",
    "        if allocation:\n",
    "            for ticker, amount in allocation.items():\n",
    "                print(f\"The allocation for {ticker} is: {amount:.0f} stocks\")\n",
    "        else:\n",
    "            print(\"No allocation was made.\")\n",
    "        \n",
    "        print(f\"\\nFunds Remaining: ${leftover:.2f}\")\n",
    "        \n",
    "        print(\"\\nPortfolio Performance:\")\n",
    "        print(f\"Expected annual return: {performance[0]:.2f}\")\n",
    "        print(f\"Annual volatility: {performance[1]:.2f}\")\n",
    "        print(f\"Sharpe ratio: {performance[2]:.2f}\")\n",
    "    except ValueError as e:\n",
    "        print(f\"Error: {e}\")"
   ]
  }
 ],
 "metadata": {
  "kernelspec": {
   "display_name": "Python 3 (ipykernel)",
   "language": "python",
   "name": "python3"
  },
  "language_info": {
   "codemirror_mode": {
    "name": "ipython",
    "version": 3
   },
   "file_extension": ".py",
   "mimetype": "text/x-python",
   "name": "python",
   "nbconvert_exporter": "python",
   "pygments_lexer": "ipython3",
   "version": "3.12.4"
  }
 },
 "nbformat": 4,
 "nbformat_minor": 5
}
